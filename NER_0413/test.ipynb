{
 "cells": [
  {
   "cell_type": "code",
   "execution_count": 1,
   "metadata": {},
   "outputs": [],
   "source": [
    "# 用户输入句子\n",
    "inputStr = input(\"请输入句子：\")\n"
   ]
  },
  {
   "cell_type": "code",
   "execution_count": 2,
   "metadata": {},
   "outputs": [
    {
     "data": {
      "text/plain": [
       "'周新钢是哪个案件的当事人？'"
      ]
     },
     "execution_count": 2,
     "metadata": {},
     "output_type": "execute_result"
    }
   ],
   "source": [
    "inputStr"
   ]
  },
  {
   "cell_type": "code",
   "execution_count": 1,
   "metadata": {},
   "outputs": [],
   "source": [
    "# inputStr2='荣成市人民法院审理的追偿权纠纷案有多少件?山东省高级人民法院是否审理过张开祥相关的案件?'"
   ]
  },
  {
   "cell_type": "code",
   "execution_count": 20,
   "metadata": {},
   "outputs": [],
   "source": [
    "inputStr2 = '周新钢是哪个案件的当事人？'\n"
   ]
  },
  {
   "cell_type": "code",
   "execution_count": 21,
   "metadata": {},
   "outputs": [],
   "source": [
    "def text_to_bmes(input_text, output_file):\n",
    "    with open(output_file, 'w', encoding='utf-8') as f:\n",
    "        for char in input_text:\n",
    "            if char == '\\n':\n",
    "                f.write('\\n')\n",
    "            else:\n",
    "                f.write(f'{char} O\\n')\n",
    "        f.write('\\n')\n",
    "\n",
    "\n",
    "input_text = inputStr2\n",
    "\n",
    "output_file = \"./ResumeNER/predict.char.bmes\"\n",
    "\n",
    "text_to_bmes(input_text, output_file)\n"
   ]
  },
  {
   "cell_type": "code",
   "execution_count": 22,
   "metadata": {},
   "outputs": [],
   "source": [
    "import pickle\n",
    "import sys\n",
    "sys.path.append(\"..\")  # 将上级目录添加到Python路径\n",
    "from utils import load_model, extend_maps, prepocess_data_for_lstmcrf\n",
    "from data import build_corpus,build_map\n",
    "from evaluating import Metrics\n",
    "from evaluate import ensemble_evaluate\n"
   ]
  },
  {
   "cell_type": "code",
   "execution_count": 23,
   "metadata": {},
   "outputs": [],
   "source": [
    "from os.path import join\n",
    "from codecs import open\n"
   ]
  },
  {
   "cell_type": "code",
   "execution_count": 26,
   "metadata": {},
   "outputs": [
    {
     "name": "stdout",
     "output_type": "stream",
     "text": [
      "Provided split value: predict\n"
     ]
    },
    {
     "ename": "ValueError",
     "evalue": "not enough values to unpack (expected 2, got 0)",
     "output_type": "error",
     "traceback": [
      "\u001b[1;31m---------------------------------------------------------------------------\u001b[0m",
      "\u001b[1;31mValueError\u001b[0m                                Traceback (most recent call last)",
      "\u001b[1;32mg:\\徐永东老师实验室\\enterpriseNER\\NER_0413\\test.ipynb Cell 8\u001b[0m in \u001b[0;36m<cell line: 1>\u001b[1;34m()\u001b[0m\n\u001b[1;32m----> <a href='vscode-notebook-cell:/g%3A/%E5%BE%90%E6%B0%B8%E4%B8%9C%E8%80%81%E5%B8%88%E5%AE%9E%E9%AA%8C%E5%AE%A4/enterpriseNER/NER_0413/test.ipynb#X10sZmlsZQ%3D%3D?line=0'>1</a>\u001b[0m predict_word_lists, predict_tag_lists \u001b[39m=\u001b[39m build_corpus(\u001b[39m\"\u001b[39;49m\u001b[39mpredict\u001b[39;49m\u001b[39m\"\u001b[39;49m, make_vocab\u001b[39m=\u001b[39;49m\u001b[39mFalse\u001b[39;49;00m,data_dir\u001b[39m=\u001b[39;49m\u001b[39m\"\u001b[39;49m\u001b[39m./ResumeNER\u001b[39;49m\u001b[39m\"\u001b[39;49m)\n",
      "File \u001b[1;32mg:\\徐永东老师实验室\\enterpriseNER\\NER_0413\\data.py:17\u001b[0m, in \u001b[0;36mbuild_corpus\u001b[1;34m(split, make_vocab, data_dir)\u001b[0m\n\u001b[0;32m     15\u001b[0m \u001b[39mfor\u001b[39;00m line \u001b[39min\u001b[39;00m f:\n\u001b[0;32m     16\u001b[0m     \u001b[39mif\u001b[39;00m line \u001b[39m!=\u001b[39m \u001b[39m'\u001b[39m\u001b[39m\\r\u001b[39;00m\u001b[39m\\n\u001b[39;00m\u001b[39m'\u001b[39m:\n\u001b[1;32m---> 17\u001b[0m         word, tag \u001b[39m=\u001b[39m line\u001b[39m.\u001b[39mstrip(\u001b[39m'\u001b[39m\u001b[39m\\n\u001b[39;00m\u001b[39m'\u001b[39m)\u001b[39m.\u001b[39msplit()\n\u001b[0;32m     18\u001b[0m         word_list\u001b[39m.\u001b[39mappend(word)\n\u001b[0;32m     19\u001b[0m         tag_list\u001b[39m.\u001b[39mappend(tag)\n",
      "\u001b[1;31mValueError\u001b[0m: not enough values to unpack (expected 2, got 0)"
     ]
    }
   ],
   "source": [
    "predict_word_lists, predict_tag_lists = build_corpus(\"predict\", make_vocab=False,data_dir=\"./ResumeNER\")"
   ]
  },
  {
   "cell_type": "code",
   "execution_count": 6,
   "metadata": {},
   "outputs": [
    {
     "name": "stdout",
     "output_type": "stream",
     "text": [
      "Provided split value: train\n"
     ]
    }
   ],
   "source": [
    "train_word_lists, train_tag_lists, word2id, tag2id = build_corpus(\"train\",data_dir=\"./ResumeNER\")"
   ]
  },
  {
   "cell_type": "code",
   "execution_count": 7,
   "metadata": {},
   "outputs": [],
   "source": [
    "crf_word2id, crf_tag2id = extend_maps(word2id, tag2id, for_crf=True)"
   ]
  },
  {
   "cell_type": "code",
   "execution_count": 8,
   "metadata": {},
   "outputs": [],
   "source": [
    "bilstm_model = load_model('./ckpts/bilstm_crf.pkl')\n"
   ]
  },
  {
   "cell_type": "code",
   "execution_count": 9,
   "metadata": {},
   "outputs": [],
   "source": [
    "bilstm_model.model.bilstm.bilstm.flatten_parameters()  # remove warning\n"
   ]
  },
  {
   "cell_type": "code",
   "execution_count": 10,
   "metadata": {},
   "outputs": [],
   "source": [
    "predict_word_lists, predict_tag_lists = prepocess_data_for_lstmcrf(\n",
    "        predict_word_lists, predict_tag_lists, test=True\n",
    "    )"
   ]
  },
  {
   "cell_type": "code",
   "execution_count": 11,
   "metadata": {},
   "outputs": [],
   "source": [
    "lstmcrf_pred, target_tag_list = bilstm_model.test(predict_word_lists, predict_tag_lists,\n",
    "                                                  crf_word2id, crf_tag2id)\n"
   ]
  },
  {
   "cell_type": "code",
   "execution_count": 13,
   "metadata": {},
   "outputs": [
    {
     "data": {
      "text/plain": [
       "[['B-NAME', 'M-NAME', 'O', 'O', 'O', 'O', 'O', 'O', 'O', 'O', 'O', 'O', 'O']]"
      ]
     },
     "execution_count": 13,
     "metadata": {},
     "output_type": "execute_result"
    }
   ],
   "source": [
    "lstmcrf_pred\n"
   ]
  },
  {
   "cell_type": "code",
   "execution_count": 14,
   "metadata": {},
   "outputs": [
    {
     "data": {
      "text/plain": [
       "'周新钢是哪个案件的当事人？'"
      ]
     },
     "execution_count": 14,
     "metadata": {},
     "output_type": "execute_result"
    }
   ],
   "source": [
    "input_text\n"
   ]
  },
  {
   "cell_type": "code",
   "execution_count": 15,
   "metadata": {},
   "outputs": [
    {
     "name": "stdout",
     "output_type": "stream",
     "text": [
      "{'周': 'NAME', '新': 'NAME', '钢': 'O', '是': 'O', '哪': 'O', '个': 'O', '案': 'O', '件': 'O', '的': 'O', '当': 'O', '事': 'O', '人': 'O', '？': 'O'}\n"
     ]
    }
   ],
   "source": [
    "simplified_tags = [tag.split('-')[-1] for tag in lstmcrf_pred[0]]\n",
    "\n",
    "result_dict = {word: tag for word, tag in zip(input_text, simplified_tags)}\n",
    "\n",
    "print(result_dict)\n"
   ]
  },
  {
   "cell_type": "code",
   "execution_count": 16,
   "metadata": {},
   "outputs": [
    {
     "name": "stdout",
     "output_type": "stream",
     "text": [
      "{'周新': 'NAME'}\n"
     ]
    }
   ],
   "source": [
    "result_dict = {}\n",
    "current_name = []\n",
    "\n",
    "for word, tag in zip(input_text, simplified_tags):\n",
    "    if tag == \"NAME\":\n",
    "        current_name.append(word)\n",
    "    elif current_name:\n",
    "        name_str = ''.join(current_name)\n",
    "        if name_str not in result_dict:\n",
    "            result_dict[name_str] = \"NAME\"\n",
    "        current_name = []\n",
    "\n",
    "print(result_dict)\n"
   ]
  },
  {
   "cell_type": "code",
   "execution_count": 17,
   "metadata": {},
   "outputs": [
    {
     "data": {
      "text/plain": [
       "{'B-NAME': 0,\n",
       " 'E-NAME': 1,\n",
       " 'O': 2,\n",
       " 'B-CONT': 3,\n",
       " 'M-CONT': 4,\n",
       " 'E-CONT': 5,\n",
       " 'B-RACE': 6,\n",
       " 'E-RACE': 7,\n",
       " 'B-TITLE': 8,\n",
       " 'M-TITLE': 9,\n",
       " 'E-TITLE': 10,\n",
       " 'B-EDU': 11,\n",
       " 'M-EDU': 12,\n",
       " 'E-EDU': 13,\n",
       " 'B-ORG': 14,\n",
       " 'M-ORG': 15,\n",
       " 'E-ORG': 16,\n",
       " 'M-NAME': 17,\n",
       " 'B-PRO': 18,\n",
       " 'M-PRO': 19,\n",
       " 'E-PRO': 20,\n",
       " 'S-RACE': 21,\n",
       " 'S-NAME': 22,\n",
       " 'B-LOC': 23,\n",
       " 'M-LOC': 24,\n",
       " 'E-LOC': 25,\n",
       " 'M-RACE': 26,\n",
       " 'S-ORG': 27,\n",
       " '<unk>': 28,\n",
       " '<pad>': 29,\n",
       " '<start>': 30,\n",
       " '<end>': 31}"
      ]
     },
     "execution_count": 17,
     "metadata": {},
     "output_type": "execute_result"
    }
   ],
   "source": [
    "tag2id"
   ]
  },
  {
   "cell_type": "code",
   "execution_count": 18,
   "metadata": {},
   "outputs": [],
   "source": [
    "REMOVE_O = False"
   ]
  },
  {
   "cell_type": "code",
   "execution_count": 19,
   "metadata": {},
   "outputs": [
    {
     "name": "stdout",
     "output_type": "stream",
     "text": [
      "           precision    recall  f1-score   support\n",
      "        O     1.0000    0.8462    0.9167        13\n",
      "avg/total     1.0000    0.8462    0.9167        13\n",
      "\n",
      "Confusion Matrix:\n",
      "              O \n",
      "      O      11 \n"
     ]
    }
   ],
   "source": [
    "metrics = Metrics(target_tag_list, lstmcrf_pred, remove_O=REMOVE_O)\n",
    "metrics.report_scores()\n",
    "metrics.report_confusion_matrix()\n"
   ]
  },
  {
   "cell_type": "code",
   "execution_count": null,
   "metadata": {},
   "outputs": [],
   "source": []
  },
  {
   "cell_type": "code",
   "execution_count": null,
   "metadata": {},
   "outputs": [],
   "source": []
  },
  {
   "cell_type": "code",
   "execution_count": null,
   "metadata": {},
   "outputs": [],
   "source": []
  }
 ],
 "metadata": {
  "kernelspec": {
   "display_name": "base",
   "language": "python",
   "name": "python3"
  },
  "language_info": {
   "codemirror_mode": {
    "name": "ipython",
    "version": 3
   },
   "file_extension": ".py",
   "mimetype": "text/x-python",
   "name": "python",
   "nbconvert_exporter": "python",
   "pygments_lexer": "ipython3",
   "version": "3.8.5"
  },
  "orig_nbformat": 4
 },
 "nbformat": 4,
 "nbformat_minor": 2
}

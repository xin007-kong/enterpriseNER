{
 "cells": [
  {
   "cell_type": "code",
   "execution_count": 17,
   "metadata": {},
   "outputs": [],
   "source": [
    "# 用户输入句子\n",
    "inputStr = input(\"请输入句子：\")\n",
    "# 自动去掉结尾多余空格\n",
    "inputStr = inputStr.strip() # 去掉首尾空格\n",
    "def text_to_bmes(input_text, output_file):\n",
    "    with open(output_file, 'w', encoding='utf-8') as f:\n",
    "        for char in input_text:\n",
    "            if char == '\\n':\n",
    "                f.write('\\n')\n",
    "            else:\n",
    "                f.write(f'{char} O\\n')\n",
    "        f.write('\\n')  #保证bmes文件里面的空行\n",
    "\n",
    "\n",
    "input_text = inputStr\n",
    "\n",
    "output_file = \"./ResumeNER/predict.char.bmes\"\n",
    "\n",
    "text_to_bmes(input_text, output_file)\n",
    "\n",
    "\n"
   ]
  },
  {
   "cell_type": "code",
   "execution_count": 18,
   "metadata": {},
   "outputs": [],
   "source": [
    "import pickle\n",
    "import sys\n",
    "sys.path.append(\"..\")  # 将上级目录添加到Python路径\n",
    "from utils import load_model, extend_maps, prepocess_data_for_lstmcrf\n",
    "from data import build_corpus,build_map\n",
    "from evaluating import Metrics\n",
    "from evaluate import ensemble_evaluate\n",
    "\n",
    "from os.path import join\n",
    "from codecs import open\n"
   ]
  },
  {
   "cell_type": "code",
   "execution_count": 19,
   "metadata": {},
   "outputs": [],
   "source": [
    "def build_corpus(split, make_vocab=True, data_dir=\"./ResumeNER\"):\n",
    "    \"\"\"读取数据\"\"\"\n",
    "    print(f\"Provided split value: {split}\")  # 添加输出以查看传入的split值\n",
    "    assert split in ['train', 'dev', 'test','predict']\n",
    "\n",
    "    word_lists = []\n",
    "    tag_lists = []\n",
    "    with open(join(data_dir, split+\".char.bmes\"), 'r', encoding='utf-8') as f:\n",
    "        word_list = []\n",
    "        tag_list = []\n",
    "        for line in f:\n",
    "            # if line != '\\r\\n':\n",
    "            #     word, tag = line.strip('\\n').split()\n",
    "            #     word_list.append(word)\n",
    "            #     tag_list.append(tag)\n",
    "            if line.strip():  # 如果不是空行\n",
    "                word, tag = line.strip().split()\n",
    "                word_list.append(word)\n",
    "                tag_list.append(tag)\n",
    "            else:\n",
    "                word_lists.append(word_list)\n",
    "                tag_lists.append(tag_list)\n",
    "                word_list = []\n",
    "                tag_list = []\n",
    "\n",
    "    # 如果make_vocab为True，还需要返回word2id和tag2id\n",
    "    if make_vocab:\n",
    "        word2id = build_map(word_lists)\n",
    "        tag2id = build_map(tag_lists)\n",
    "        return word_lists, tag_lists, word2id, tag2id\n",
    "    else:\n",
    "        return word_lists, tag_lists"
   ]
  },
  {
   "cell_type": "code",
   "execution_count": 20,
   "metadata": {},
   "outputs": [
    {
     "name": "stdout",
     "output_type": "stream",
     "text": [
      "Provided split value: predict\n"
     ]
    }
   ],
   "source": [
    "predict_word_lists, predict_tag_lists = build_corpus(\"predict\", make_vocab=False,data_dir=\"./ResumeNER\")"
   ]
  },
  {
   "cell_type": "code",
   "execution_count": 21,
   "metadata": {},
   "outputs": [
    {
     "name": "stdout",
     "output_type": "stream",
     "text": [
      "Provided split value: train\n"
     ]
    }
   ],
   "source": [
    "train_word_lists, train_tag_lists, word2id, tag2id = build_corpus(\"train\",data_dir=\"./ResumeNER\")"
   ]
  },
  {
   "cell_type": "code",
   "execution_count": 22,
   "metadata": {},
   "outputs": [],
   "source": [
    "crf_word2id, crf_tag2id = extend_maps(word2id, tag2id, for_crf=True)"
   ]
  },
  {
   "cell_type": "code",
   "execution_count": 23,
   "metadata": {},
   "outputs": [],
   "source": [
    "bilstm_model = load_model('./ckpts/bilstm_crf.pkl')\n",
    "bilstm_model.model.bilstm.bilstm.flatten_parameters()  # remove warning"
   ]
  },
  {
   "cell_type": "code",
   "execution_count": 24,
   "metadata": {},
   "outputs": [],
   "source": [
    "predict_word_lists, predict_tag_lists = prepocess_data_for_lstmcrf(\n",
    "        predict_word_lists, predict_tag_lists, test=True\n",
    "    )\n"
   ]
  },
  {
   "cell_type": "code",
   "execution_count": 25,
   "metadata": {},
   "outputs": [],
   "source": [
    "lstmcrf_pred, target_tag_list = bilstm_model.test(predict_word_lists, predict_tag_lists,\n",
    "                                                  crf_word2id, crf_tag2id)"
   ]
  },
  {
   "cell_type": "code",
   "execution_count": 26,
   "metadata": {},
   "outputs": [
    {
     "data": {
      "text/plain": [
       "[['B-ORG',\n",
       "  'M-ORG',\n",
       "  'M-ORG',\n",
       "  'M-ORG',\n",
       "  'M-ORG',\n",
       "  'M-ORG',\n",
       "  'M-ORG',\n",
       "  'M-ORG',\n",
       "  'E-ORG']]"
      ]
     },
     "execution_count": 26,
     "metadata": {},
     "output_type": "execute_result"
    }
   ],
   "source": [
    "lstmcrf_pred"
   ]
  },
  {
   "cell_type": "code",
   "execution_count": null,
   "metadata": {},
   "outputs": [],
   "source": []
  },
  {
   "cell_type": "code",
   "execution_count": null,
   "metadata": {},
   "outputs": [],
   "source": []
  }
 ],
 "metadata": {
  "kernelspec": {
   "display_name": "base",
   "language": "python",
   "name": "python3"
  },
  "language_info": {
   "codemirror_mode": {
    "name": "ipython",
    "version": 3
   },
   "file_extension": ".py",
   "mimetype": "text/x-python",
   "name": "python",
   "nbconvert_exporter": "python",
   "pygments_lexer": "ipython3",
   "version": "3.8.5"
  },
  "orig_nbformat": 4
 },
 "nbformat": 4,
 "nbformat_minor": 2
}
